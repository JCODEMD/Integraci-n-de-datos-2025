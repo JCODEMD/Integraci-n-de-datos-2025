{
  "nbformat": 4,
  "nbformat_minor": 0,
  "metadata": {
    "colab": {
      "provenance": [],
      "include_colab_link": true
    },
    "kernelspec": {
      "name": "python3",
      "display_name": "Python 3"
    },
    "language_info": {
      "name": "python"
    }
  },
  "cells": [
    {
      "cell_type": "markdown",
      "metadata": {
        "id": "view-in-github",
        "colab_type": "text"
      },
      "source": [
        "<a href=\"https://colab.research.google.com/github/JCODEMD/Integraci-n-de-datos-2025/blob/main/Caracterizacion_VA.ipynb\" target=\"_parent\"><img src=\"https://colab.research.google.com/assets/colab-badge.svg\" alt=\"Open In Colab\"/></a>"
      ]
    },
    {
      "cell_type": "markdown",
      "source": [
        "# Caracterización Experimental de Variables"
      ],
      "metadata": {
        "id": "xw0mUv0qeQvN"
      }
    },
    {
      "cell_type": "code",
      "source": [
        "import numpy as np\n",
        "import matplotlib.pyplot as plt\n",
        "import pandas as pd\n",
        "import seaborn as sns #Libreria para la grafica de distribuciones\n",
        "\n",
        "#Para carga automatica de los datos\n",
        "from google.colab import drive\n",
        "drive.mount('/content/drive')\n"
      ],
      "metadata": {
        "colab": {
          "base_uri": "https://localhost:8080/"
        },
        "id": "94xLDNkAeaSm",
        "outputId": "a925b843-634f-47f3-8601-a71a83f5e5ca"
      },
      "execution_count": 1,
      "outputs": [
        {
          "output_type": "stream",
          "name": "stdout",
          "text": [
            "Mounted at /content/drive\n"
          ]
        }
      ]
    },
    {
      "cell_type": "markdown",
      "source": [
        "1. Se procede con la carga de los datos\n"
      ],
      "metadata": {
        "id": "3Y7sfi1ogpJ4"
      }
    },
    {
      "cell_type": "code",
      "source": [
        "nxl = '/content/3. FallasTecnologicas (2).xlsx'\n",
        "xdb = pd.read_excel(nxl, sheet_name=0)\n",
        "xdb.dropna()\n",
        "xdb.head(10)\n",
        "\n",
        "#Tomamos las variables de interés\n",
        "xev = xdb.iloc[:,3] #Variable Eventos Semanales\n",
        "xsev = xdb.iloc[:,4] #Perdidas Promedio por Evento\n",
        "LDA = np.multiply(xev,xsev)\n",
        "\n",
        "#Graficamos la Distribución de las Perdidas\n",
        "plt.figure()\n",
        "sns.histplot(LDA, kde=True, bins=10, ) #bins: agrupar los datos en 10 intervalos\n",
        "plt.xlabel(\"Pérdidas\")  # Etiqueta del eje x\n",
        "plt.ylabel(\"Frecuencia\") # Etiqueta del eje y\n",
        "plt.title(\"Distribución de las Pérdidas\") # Título del gráfico\n",
        "plt.show()"
      ],
      "metadata": {
        "colab": {
          "base_uri": "https://localhost:8080/",
          "height": 472
        },
        "id": "vbNtYy_Wgu6a",
        "outputId": "c03e04ad-464d-4b23-9580-9cf5ca7ad7b2"
      },
      "execution_count": 5,
      "outputs": [
        {
          "output_type": "display_data",
          "data": {
            "text/plain": [
              "<Figure size 640x480 with 1 Axes>"
            ],
            "image/png": "[encoded data removed]"
          },
          "metadata": {}
        }
      ]
    },
    {
      "cell_type": "markdown",
      "source": [
        "2. Caracterización de las Perdidas"
      ],
      "metadata": {
        "id": "GdEPUgUblcSq"
      }
    },
    {
      "cell_type": "code",
      "source": [
        "counts,bin_edges = np.histogram(LDA, bins=10)\n",
        "print('Los datos por intervalo son:\\n', counts) # Limites de los Intervalos\n",
        "print('Los limites de los intervalos son:\\n', bin_edges) #Cuantos datos hay por intervalo\n",
        "\n",
        "#Los Valores Centrales - Marcas de Clase\n",
        "mc = (bin_edges[:-1]+bin_edges[1:])/2 #Limites inferiores [:-1] / Limites Superiores bin_edges [1:]\n",
        "print(\"Los valores centrales de las clases son:\\n\", mc)\n",
        "\n",
        "#Cuantos datos hay por intervalo\n",
        "fp = counts/sum(counts)\n",
        "print(\"Los datos por intervalo son:\\n\", fp)\n",
        "\n",
        "#2. Se procede con el calculo de las medidas de tendencia central\n",
        "#Media, Varianza, Coeficiente de Asimetria, Kurtosis\n",
        "u = np.sum(np.multiply(mc,fp))\n",
        "print(\"la media de los datos es:\", u)\n",
        "\n",
        "#3. Desviacion-Estandar (Varianza)\n",
        "var=np.sum(np.multiply((mc-u)**2, fp))\n",
        "print(\"la varianza de los datos es:\", var)\n",
        "std=np.sqrt(var)\n",
        "print(\"la desviacion estandar de los datos es:\", std)\n",
        "\n",
        "#4. Coeficiente de Asimetría\n",
        "cas = np.sum(np.multiply(((mc-u)/std)**3, fp))\n",
        "print(\"El coeficiente de asimetria de los datos es:\", cas)\n",
        "\n",
        "#5. Coeficiente de Kurtosis\n",
        "ck = np.sum(np.multiply(((mc-u)/std)**4,fp))\n",
        "ck=ck-3\n",
        "print(\"El Coeficiente de Kurtosis es:\", ck)"
      ],
      "metadata": {
        "colab": {
          "base_uri": "https://localhost:8080/"
        },
        "id": "CSDmM-dVlgJR",
        "outputId": "066f7ff1-e0b6-4df4-e0ec-4de2e588caed"
      },
      "execution_count": 6,
      "outputs": [
        {
          "output_type": "stream",
          "name": "stdout",
          "text": [
            "Los datos por intervalo son:\n",
            " [533  93  37  14   9   5   3   5   1   1]\n",
            "Los limites de los intervalos son:\n",
            " [  0.1423   11.23637  22.33044  33.42451  44.51858  55.61265  66.70672\n",
            "  77.80079  88.89486  99.98893 111.083  ]\n",
            "Los valores centrales de las clases son:\n",
            " [  5.689335  16.783405  27.877475  38.971545  50.065615  61.159685\n",
            "  72.253755  83.347825  94.441895 105.535965]\n",
            "Los datos por intervalo son:\n",
            " [0.76034237 0.13266762 0.05278174 0.01997147 0.0128388  0.00713267\n",
            " 0.0042796  0.00713267 0.00142653 0.00142653]\n",
            "la media de los datos es: 11.07019634094151\n",
            "la varianza de los datos es: 170.14888945066892\n",
            "la desviacion estandar de los datos es: 13.044113210589247\n",
            "El coeficiente de asimetria de los datos es: 3.58241551867726\n",
            "El Coeficiente de Kurtosis es: 15.266617247076208\n"
          ]
        }
      ]
    },
    {
      "cell_type": "markdown",
      "source": [
        "## Analisis de Resultados\n",
        "En la base de datos se cuenta con un total de 701 registros de perdida asociados con las operaciones a traves de canales electronicos de una FINTECH. Estos registros nos arrojan como resultado una confiabilidad en la estimación de los estadísticos del 99% de acuerdo con la teoría de los percentiles. En la gráfica anterior, podemos observar que la distribución presenta estructura de cola larga, esto promovido por un coeficiente de asimetria positivo aproximadamente 3.58, y un coeficiente de kurtosis aproximadamente de 15 unidades, lo que indica que la mayoría de los datos se encuentran muy concentradis alrededor de la media, en un 76% aproximadamente. Esta estructura muestra claramente que los eventos de perdida extremos son muy escasos, lo que indica una baja exposicion al riesgo.  \n"
      ],
      "metadata": {
        "id": "DpmwE4lpslu5"
      }
    },
    {
      "cell_type": "markdown",
      "source": [
        "3. Se procede con el muestreo de la variable aleatoria de peridas"
      ],
      "metadata": {
        "id": "fKcZpWeYaFd5"
      }
    },
    {
      "cell_type": "code",
      "source": [
        "#0. Preparar la variable para el muestreo\n",
        "\n",
        "LDAdf=pd.DataFrame(LDA)\n",
        "\n"
      ],
      "metadata": {
        "id": "z6XDDcElaI14"
      },
      "execution_count": 8,
      "outputs": []
    },
    {
      "cell_type": "code",
      "source": [
        "!pip install scipy\n",
        "import scipy.stats as stats\n",
        "\n"
      ],
      "metadata": {
        "colab": {
          "base_uri": "https://localhost:8080/"
        },
        "id": "3M-_V-XkkmM0",
        "outputId": "d84a1ab9-1f62-4efa-c514-a9d72c819b47"
      },
      "execution_count": 18,
      "outputs": [
        {
          "output_type": "stream",
          "name": "stdout",
          "text": [
            "Requirement already satisfied: scipy in /usr/local/lib/python3.11/dist-packages (1.13.1)\n",
            "Requirement already satisfied: numpy<2.3,>=1.22.4 in /usr/local/lib/python3.11/dist-packages (from scipy) (1.26.4)\n"
          ]
        }
      ]
    },
    {
      "cell_type": "code",
      "source": [
        "LDAs = LDAdf.sample(n=1000, replace=True)"
      ],
      "metadata": {
        "id": "WcXZee5AlNld"
      },
      "execution_count": 19,
      "outputs": []
    },
    {
      "cell_type": "code",
      "source": [
        "#1 se proocede con el muestreo - se va a repetir mumero de los 349\n",
        "\n",
        "casd = stats.skew(LDAs.iloc[:, 0])  # Apply skew to the data column in LDAs\n",
        "print(\"el coeficiente de asimetria de los datos:\", casd)\n"
      ],
      "metadata": {
        "colab": {
          "base_uri": "https://localhost:8080/"
        },
        "id": "HQMLrrGBgk63",
        "outputId": "dce71491-357a-4618-8a96-087e8e285aef"
      },
      "execution_count": 20,
      "outputs": [
        {
          "output_type": "stream",
          "name": "stdout",
          "text": [
            "el coeficiente de asimetria de los datos: 2.811502220354003\n"
          ]
        }
      ]
    },
    {
      "cell_type": "code",
      "source": [
        "ckd = stats.kurtosis(LDAs.iloc[:, 0])\n",
        "ckd = ckd - 3\n",
        "print(\"El coeficiente de kurtosis de los datos es:\", ckd)\n"
      ],
      "metadata": {
        "colab": {
          "base_uri": "https://localhost:8080/"
        },
        "id": "IGi3YQheljc9",
        "outputId": "0ca6d441-554d-43d1-f794-b64422657c3e"
      },
      "execution_count": 22,
      "outputs": [
        {
          "output_type": "stream",
          "name": "stdout",
          "text": [
            "El coeficiente de kurtosis de los datos es: 6.718300239934505\n"
          ]
        }
      ]
    },
    {
      "cell_type": "code",
      "source": [
        "pvcas=(cas-casd)/cas\n",
        "print(\"variacion coeficiente de asimetria de los datos es:\",pvcas)\n"
      ],
      "metadata": {
        "colab": {
          "base_uri": "https://localhost:8080/"
        },
        "id": "4RjtnAF8lzRc",
        "outputId": "5654927f-bbce-483e-bc96-c3face432dbe"
      },
      "execution_count": 23,
      "outputs": [
        {
          "output_type": "stream",
          "name": "stdout",
          "text": [
            "variacion coeficiente de asimetria de los datos es: 0.2151937133769179\n"
          ]
        }
      ]
    },
    {
      "cell_type": "code",
      "source": [
        "pvkd=(ck-ckd)/ck\n",
        "print(\"variacion coeficiente de kurtosis de los datos es:\",pvkd)\n"
      ],
      "metadata": {
        "colab": {
          "base_uri": "https://localhost:8080/"
        },
        "id": "YN9VQIATmFGT",
        "outputId": "7886e7ef-8214-4ad2-899a-ef31ebcd67be"
      },
      "execution_count": 24,
      "outputs": [
        {
          "output_type": "stream",
          "name": "stdout",
          "text": [
            "variacion coeficiente de kurtosis de los datos es: 0.5599352409767683\n"
          ]
        }
      ]
    },
    {
      "cell_type": "code",
      "source": [
        "#Se procede con la grafica de las perdidas\n",
        "plt.figure()\n",
        "sns.histplot(LDA,kde=True,bins=10, color='red')\n",
        "sns.histplot(LDAs,kde=True,bins=10, color='blue')\n",
        "plt.xlabel(\"Perdidas\")\n",
        "plt.ylabel(\"Frecuencia\")\n",
        "plt.title(\"Distribución de las Pérdidas\")\n",
        "plt.show()"
      ],
      "metadata": {
        "colab": {
          "base_uri": "https://localhost:8080/",
          "height": 472
        },
        "id": "186dd3nXmc1c",
        "outputId": "c0f1d026-efe0-4363-e1f4-c873300369a3"
      },
      "execution_count": 25,
      "outputs": [
        {
          "output_type": "display_data",
          "data": {
            "text/plain": [
              "<Figure size 640x480 with 1 Axes>"
            ],
            "image/png": "[encoded data removed]"
          },
          "metadata": {}
        }
      ]
    },
    {
      "cell_type": "markdown",
      "source": [
        "4. Mapeo de la distribución de probabilidad\n"
      ],
      "metadata": {
        "id": "OeBaIVfYmvU0"
      }
    },
    {
      "cell_type": "code",
      "source": [
        "if abs (cas)<0.5 and abs(ck)<0.5:\n",
        "  print(\"Posible distribución Normal\")\n",
        "\n",
        "elif cas>0 and ck>3:\n",
        "  if ck>=8:\n",
        "    print(\"Posible distribución Exponencial\")\n",
        "  elif ck>=6:\n",
        "    print(\"Posible distribución Gamma\")\n",
        "  else:\n",
        "    print(\"Posible distribución Weibull\")\n",
        "\n",
        "elif cas<0 and ck<3:\n",
        "  print(\"Posible distribución Beta\")\n",
        "\n",
        "elif ck<3:\n",
        "  print(\"Posible distribución  uniforme\")\n",
        "else:\n",
        "  print(\"No se pudo identificar la distribución\")"
      ],
      "metadata": {
        "colab": {
          "base_uri": "https://localhost:8080/"
        },
        "id": "6fpCLPSmm0pD",
        "outputId": "e615b35e-ad05-471d-a696-d996a53f29c9"
      },
      "execution_count": 28,
      "outputs": [
        {
          "output_type": "stream",
          "name": "stdout",
          "text": [
            "Posible distribución Exponencial\n"
          ]
        }
      ]
    },
    {
      "cell_type": "markdown",
      "source": [
        "Analisis Resultados: El numero de datos disponibles para este analisis fueron en total 701 datos lo que ubica en una confiabilidad del 99%. Para incrementar esta confiabilidad se procedio con un muestreo basado en el metodo montecarlo (giro de la ruleta - cargada) logrando en muchos casos coeficientes de curtosis y coeficientes de curtosis del 15% a diferencia del metodo sampling que utiliza la libreria pandas los cuales tuvieron variaciones mayores a estos porcentajes. El metodo de montecarlo asegura variaciones mucho mas bajas en estos coeficientes.\n"
      ],
      "metadata": {
        "id": "TS3y_Preqmai"
      }
    },
    {
      "cell_type": "markdown",
      "source": [],
      "metadata": {
        "id": "731orhWYrfxi"
      }
    }
  ]
}